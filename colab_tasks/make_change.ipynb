{
 "cells": [
  {
   "cell_type": "code",
   "execution_count": null,
   "metadata": {},
   "outputs": [],
   "source": [
    "# Run me! See today's paper sheet for the plan.\n",
    "\n",
    "# Make Change Calculator - Greedy Algorithm (Week 6)\n",
    "# Find the most efficient way to make change using fewest bills/coins\n",
    "\n",
    "print(\"💰 Smart Change Calculator\")\n",
    "cost = 7.35\n",
    "paid = 10.00\n",
    "change = paid - cost\n",
    "print(f\"Item cost: ${cost:.2f}, Paid: ${paid:.2f}\")\n",
    "print(f\"Change needed: ${change:.2f}\")\n",
    "\n",
    "# Money denominations (largest first for greedy algorithm)\n",
    "money = [20.00, 10.00, 5.00, 1.00, 0.25, 0.10, 0.05, 0.01]\n",
    "names = [\"$20\", \"$10\", \"$5\", \"$1\", \"25¢\", \"10¢\", \"5¢\", \"1¢\"]\n",
    "\n",
    "remaining = round(change, 2)\n",
    "print(\"Give back:\")\n",
    "\n",
    "### TODO ### Complete the greedy loop to find optimal change\n",
    "for i in range(len(money)):\n",
    "    count = int(remaining / money[i])\n",
    "    if count > 0:\n",
    "        print(f\"  {count} {names[i]}\")\n",
    "        remaining = round(remaining - count * money[i], 2)\n",
    "\n",
    "print(\"✅ Change calculated using greedy algorithm!\")"
   ]
  }
 ],
 "metadata": {
  "kernelspec": {
   "display_name": "Python 3",
   "language": "python",
   "name": "python3"
  },
  "language_info": {
   "codemirror_mode": {
    "name": "ipython",
    "version": 3
   },
   "file_extension": ".py",
   "mimetype": "text/x-python",
   "name": "python",
   "nbconvert_exporter": "python",
   "pygments_lexer": "ipython3",
   "version": "3.8.5"
  }
 },
 "nbformat": 4,
 "nbformat_minor": 4
}
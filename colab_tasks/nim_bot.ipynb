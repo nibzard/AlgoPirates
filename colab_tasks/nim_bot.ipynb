{
 "cells": [
  {
   "cell_type": "code",
   "execution_count": null,
   "metadata": {},
   "outputs": [],
   "source": [
    "# Run me! See today's paper sheet for the plan.\n",
    "\n",
    "# Nim Game Bot - Strategic Math Game (Week 8)\n",
    "# Play against a bot that uses modular arithmetic strategy!\n",
    "\n",
    "import random\n",
    "print(\"🎮 Nim: Take 1-3 sticks, last player wins!\")\n",
    "sticks = 15\n",
    "\n",
    "while sticks > 0:\n",
    "    print(\"Sticks left:\", sticks)\n",
    "    take = int(input(\"Take 1-3 sticks: \"))\n",
    "    if take not in (1, 2, 3) or take > sticks:\n",
    "        print(\"Try again\"); continue\n",
    "    sticks -= take\n",
    "    if sticks <= 0: print(\"🎉 You win!\"); break\n",
    "    \n",
    "    ### TODO ### Study the bot's strategy - what's the pattern?\n",
    "    bot_take = (sticks - 1) % 4\n",
    "    if bot_take == 0: bot_take = random.randint(1, min(3, sticks))\n",
    "    print(\"🤖 Bot takes\", bot_take)\n",
    "    sticks -= bot_take\n",
    "    \n",
    "if sticks > 0: print(\"🤖 Bot wins! Can you find the winning strategy?\")"
   ]
  }
 ],
 "metadata": {
  "kernelspec": {
   "display_name": "Python 3",
   "language": "python",
   "name": "python3"
  },
  "language_info": {
   "codemirror_mode": {
    "name": "ipython",
    "version": 3
   },
   "file_extension": ".py",
   "mimetype": "text/x-python",
   "name": "python",
   "nbconvert_exporter": "python",
   "pygments_lexer": "ipython3",
   "version": "3.8.5"
  }
 },
 "nbformat": 4,
 "nbformat_minor": 4
}
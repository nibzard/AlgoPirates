{
 "cells": [
  {
   "cell_type": "code",
   "execution_count": null,
   "metadata": {},
   "outputs": [],
   "source": [
    "# Run me! See today's paper sheet for the plan.\n",
    "\n",
    "# Conway's Game of Life - Pattern Evolution (Week 3)\n",
    "# Watch how cell patterns change based on neighbor rules!\n",
    "\n",
    "print(\"🧬 Conway's Life: Starting pattern\")\n",
    "grid = [[0, 1, 0], [1, 1, 0], [0, 0, 1]]\n",
    "for row in grid: print(''.join('🟢' if cell else '⚫' for cell in row))\n",
    "\n",
    "def neighbors(g, r, c):\n",
    "    return sum(g[r+i][c+j] for i in (-1,0,1) for j in (-1,0,1) \n",
    "               if (i or j) and 0 <= r+i < len(g) and 0 <= c+j < len(g[0]))\n",
    "\n",
    "print(\"After one generation:\")\n",
    "new = []\n",
    "for r, row in enumerate(grid):\n",
    "    line = []\n",
    "    for c, val in enumerate(row):\n",
    "        n = neighbors(grid, r, c)\n",
    "        line.append(1 if val and n in (2, 3) or (not val and n == 3) else 0)\n",
    "    new.append(line)\n",
    "for row in new: print(''.join('🟢' if cell else '⚫' for cell in row))\n",
    "\n",
    "### TODO ###\n",
    "# Change 'grid' pattern and run again - try different starting shapes!"
   ]
  }
 ],
 "metadata": {
  "kernelspec": {
   "display_name": "Python 3",
   "language": "python",
   "name": "python3"
  },
  "language_info": {
   "codemirror_mode": {
    "name": "ipython",
    "version": 3
   },
   "file_extension": ".py",
   "mimetype": "text/x-python",
   "name": "python",
   "nbconvert_exporter": "python",
   "pygments_lexer": "ipython3",
   "version": "3.8.5"
  }
 },
 "nbformat": 4,
 "nbformat_minor": 4
}
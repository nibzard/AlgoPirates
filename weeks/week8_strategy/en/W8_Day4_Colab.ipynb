{
 "cells": [
  {
   "cell_type": "code",
   "metadata": {},
   "outputs": [],
   "source": "# Run me! See today's paper sheet for the plan.\n\n# Nim Game - Can you beat the bot? (Week 8)\nimport random\n\n# Game setup\ntotal = 15\nsticks = total\n\nprint(\"🎮 Welcome to Nim! Take turns removing 1-3 sticks.\")\nprint(\"The player who takes the last stick wins!\\n\")\n\nwhile sticks > 0:\n    print(\"Sticks left:\", \"|\" * sticks, f\"({sticks})\")\n    \n    # Player's turn\n    take = int(input(\"Your turn! Take 1-3 sticks: \"))\n    if take not in (1, 2, 3) or take > sticks:\n        print(\"❌ Invalid move! Try again.\")\n        continue\n    \n    sticks -= take\n    if sticks <= 0: \n        print(\"🎉 You win! You took the last stick!\")\n        break\n    \n    # Bot's turn with strategy\n    ### TODO ### Improve the bot's strategy!\n    # The current bot uses the winning strategy: (sticks - 1) % 4\n    # But when it can't win, it picks randomly\n    \n    # Calculate optimal move\n    bot_take = (sticks - 1) % 4\n    \n    if bot_take == 0:\n        # Can't force a win, so pick randomly\n        bot_take = ___  # STUDENT: Fill in - random number 1-3 (but not more than sticks)\n    \n    print(f\"🤖 Bot takes {bot_take} stick(s)\")\n    sticks -= bot_take\n    \n    if sticks <= 0:\n        print(\"💔 Bot wins! Better luck next time!\")\n\n### TODO ### Add these improvements:\n# 1. Change the starting number of sticks (try 10, 20, or 21)\n# 2. Allow taking 1-4 sticks instead of 1-3\n# 3. Make the bot occasionally make \"mistakes\" on purpose\n# 4. Add a score counter for multiple games"
  }
 ],
 "metadata": {
  "kernelspec": {
   "display_name": "Python 3",
   "language": "python",
   "name": "python3"
  },
  "language_info": {
   "codemirror_mode": {
    "name": "ipython",
    "version": 3
   },
   "file_extension": ".py",
   "mimetype": "text/x-python",
   "name": "python",
   "nbconvert_exporter": "python",
   "pygments_lexer": "ipython3",
   "version": "3.8.5"
  }
 },
 "nbformat": 4,
 "nbformat_minor": 4
}
{
 "cells": [
  {
   "cell_type": "code",
   "execution_count": null,
   "metadata": {},
   "outputs": [],
   "source": [
    "# Run me!  See today's paper sheet for the plan.\n",
    "import random\n",
    "total = 15\n",
    "sticks = total\n",
    "while sticks > 0:\n",
    "    print(\"Sticks left:\", sticks)\n",
    "    take = int(input(\"Take 1-3 sticks: \"))\n",
    "    if take not in (1, 2, 3) or take > sticks:\n",
    "        print(\"Try again\")\n",
    "        continue\n",
    "    sticks -= take\n",
    "    if sticks <= 0: print(\"You win!\"); break\n",
    "    bot_take = (sticks - 1) % 4\n",
    "    if bot_take == 0:\n",
    "        bot_take = random.randint(1, min(3, sticks))\n",
    "    print(\"Bot takes\", bot_take)\n",
    "    sticks -= bot_take\n",
    "if sticks > 0:\n",
    "    print(\"Bot wins!\")"
   ]
  }
 ],
 "metadata": {
  "kernelspec": {
   "display_name": "Python 3",
   "language": "python",
   "name": "python3"
  },
  "language_info": {
   "codemirror_mode": {
    "name": "ipython",
    "version": 3
   },
   "file_extension": ".py",
   "mimetype": "text/x-python",
   "name": "python",
   "nbconvert_exporter": "python",
   "pygments_lexer": "ipython3",
   "version": "3.8.5"
  }
 },
 "nbformat": 4,
 "nbformat_minor": 4
}
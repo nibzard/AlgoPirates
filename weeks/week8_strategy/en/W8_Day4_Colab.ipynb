{
 "cells": [
  {
   "cell_type": "code",
   "metadata": {},
   "outputs": [],
   "source": "# Run me! See today's paper sheet for the plan.\n\n# Nim Game - Can you beat the bot? (Week 8)\nimport random\n\ntotal = 15\nsticks = total\nprint(\"🎮 Welcome to Nim! Take turns removing 1-3 sticks.\")\n\nwhile sticks > 0:\n    print(\"Sticks left:\", \"|\" * sticks, f\"({sticks})\")\n    take = int(input(\"Your turn! Take 1-3 sticks: \"))\n    if take not in (1, 2, 3) or take > sticks:\n        print(\"❌ Invalid move! Try again.\"); continue\n    sticks -= take\n    if sticks <= 0: print(\"🎉 You win!\"); break\n    \n    ### TODO ### Complete the bot strategy\n    bot_take = (sticks - 1) % 4\n    if bot_take == 0: bot_take = ___  # STUDENT: random number 1-3\n    print(f\"🤖 Bot takes {bot_take}\")\n    sticks -= bot_take\n    if sticks <= 0: print(\"💔 Bot wins!\")"
  }
 ],
 "metadata": {
  "kernelspec": {
   "display_name": "Python 3",
   "language": "python",
   "name": "python3"
  },
  "language_info": {
   "codemirror_mode": {
    "name": "ipython",
    "version": 3
   },
   "file_extension": ".py",
   "mimetype": "text/x-python",
   "name": "python",
   "nbconvert_exporter": "python",
   "pygments_lexer": "ipython3",
   "version": "3.8.5"
  }
 },
 "nbformat": 4,
 "nbformat_minor": 4
}
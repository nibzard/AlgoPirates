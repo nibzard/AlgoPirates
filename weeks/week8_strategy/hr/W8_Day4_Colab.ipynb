{
 "cells": [
  {
   "cell_type": "code",
   "metadata": {},
   "outputs": [],
   "source": "# Pokreni me! Pogledaj današnji radni list za plan.\n\n# Nim igra - Možeš li pobijediti bota? (Tjedan 8)\nimport random\n\nukupno = 15\nstapici = ukupno\nprint(\"🎮 Dobrodošli u Nim! Naizmjence uklanjajte 1-3 štapića.\")\n\nwhile stapici > 0:\n    print(\"Preostalo štapića:\", \"|\" * stapici, f\"({stapici})\")\n    uzmi = int(input(\"Tvoj red! Uzmi 1-3 štapića: \"))\n    if uzmi not in (1, 2, 3) or uzmi > stapici:\n        print(\"❌ Nevažeći potez! Pokušaj ponovno.\"); continue\n    stapici -= uzmi\n    if stapici <= 0: print(\"🎉 Pobijedio/la si!\"); break\n    \n    ### TODO ### Dovrši botovu strategiju\n    bot_uzima = (stapici - 1) % 4\n    if bot_uzima == 0: bot_uzima = ___  # UČENIK: slučajan broj 1-3\n    print(f\"🤖 Bot uzima {bot_uzima}\")\n    stapici -= bot_uzima\n    if stapici <= 0: print(\"💔 Bot pobjeđuje!\")"
  }
 ],
 "metadata": {
  "kernelspec": {
   "display_name": "Python 3",
   "language": "python",
   "name": "python3"
  },
  "language_info": {
   "codemirror_mode": {
    "name": "ipython",
    "version": 3
   },
   "file_extension": ".py",
   "mimetype": "text/x-python",
   "name": "python",
   "nbconvert_exporter": "python",
   "pygments_lexer": "ipython3",
   "version": "3.8.5"
  }
 },
 "nbformat": 4,
 "nbformat_minor": 4
}
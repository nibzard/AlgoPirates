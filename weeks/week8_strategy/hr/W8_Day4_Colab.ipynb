{
 "cells": [
  {
   "cell_type": "code",
   "execution_count": null,
   "metadata": {},
   "outputs": [],
   "source": [
    "# Pokreni me! Pogledaj današnji papirni list za plan.\n",
    "import random\n",
    "ukupno = 15\n",
    "stapici = ukupno\n",
    "while stapici > 0:\n",
    "    print(\"Stapića ostalo:\", stapici)\n",
    "    uzmi = int(input(\"Uzmi 1-3 stapića: \"))\n",
    "    if uzmi not in (1, 2, 3) or uzmi > stapici:\n",
    "        print(\"Pokušaj ponovo\")\n",
    "        continue\n",
    "    stapici -= uzmi\n",
    "    if stapici <= 0: print(\"Pobjeđuješ!\"); break\n",
    "    bot_uzmi = (stapici - 1) % 4\n",
    "    if bot_uzmi == 0:\n",
    "        bot_uzmi = random.randint(1, min(3, stapici))\n",
    "    print(\"Bot uzima\", bot_uzmi)\n",
    "    stapici -= bot_uzmi\n",
    "if stapici > 0:\n",
    "    print(\"Bot pobjeđuje!\")"
   ]
  }
 ],
 "metadata": {
  "kernelspec": {
   "display_name": "Python 3",
   "language": "python",
   "name": "python3"
  },
  "language_info": {
   "codemirror_mode": {
    "name": "ipython",
    "version": 3
   },
   "file_extension": ".py",
   "mimetype": "text/x-python",
   "name": "python",
   "nbconvert_exporter": "python",
   "pygments_lexer": "ipython3",
   "version": "3.8.5"
  }
 },
 "nbformat": 4,
 "nbformat_minor": 4
}
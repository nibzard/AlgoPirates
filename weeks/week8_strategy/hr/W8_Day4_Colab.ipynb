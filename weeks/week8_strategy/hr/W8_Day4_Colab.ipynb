{
 "cells": [
  {
   "cell_type": "code",
   "metadata": {},
   "outputs": [],
   "source": "# Pokreni me! Pogledaj današnji radni list za plan.\n\n# Nim igra - Možeš li pobijediti bota? (Tjedan 8)\nimport random\n\n# Postavljanje igre\nukupno = 15\nstapici = ukupno\n\nprint(\"🎮 Dobrodošli u Nim! Naizmjence uklanjajte 1-3 štapića.\")\nprint(\"Igrač koji uzme zadnji štapić pobjeđuje!\\n\")\n\nwhile stapici > 0:\n    print(\"Preostalo štapića:\", \"|\" * stapici, f\"({stapici})\")\n    \n    # Igračev potez\n    uzmi = int(input(\"Tvoj red! Uzmi 1-3 štapića: \"))\n    if uzmi not in (1, 2, 3) or uzmi > stapici:\n        print(\"❌ Nevažeći potez! Pokušaj ponovno.\")\n        continue\n    \n    stapici -= uzmi\n    if stapici <= 0: \n        print(\"🎉 Pobijedio/la si! Uzeo/la si zadnji štapić!\")\n        break\n    \n    # Botov potez sa strategijom\n    ### TODO ### Poboljšaj botovu strategiju!\n    # Trenutni bot koristi pobjedničku strategiju: (stapici - 1) % 4\n    # Ali kad ne može pobijediti, bira nasumično\n    \n    # Izračunaj optimalni potez\n    bot_uzima = (stapici - 1) % 4\n    \n    if bot_uzima == 0:\n        # Ne može prisiliti pobjedu, pa bira nasumično\n        bot_uzima = ___  # UČENIK: Ispuni - slučajan broj 1-3 (ali ne više od stapici)\n    \n    print(f\"🤖 Bot uzima {bot_uzima} štapić(a)\")\n    stapici -= bot_uzima\n    \n    if stapici <= 0:\n        print(\"💔 Bot pobjeđuje! Više sreće sljedeći put!\")\n\n### TODO ### Dodaj ova poboljšanja:\n# 1. Promijeni početni broj štapića (pokušaj 10, 20 ili 21)\n# 2. Omogući uzimanje 1-4 štapića umjesto 1-3\n# 3. Neka bot povremeno namjerno pravi \"greške\"\n# 4. Dodaj brojač rezultata za više igara"
  }
 ],
 "metadata": {
  "kernelspec": {
   "display_name": "Python 3",
   "language": "python",
   "name": "python3"
  },
  "language_info": {
   "codemirror_mode": {
    "name": "ipython",
    "version": 3
   },
   "file_extension": ".py",
   "mimetype": "text/x-python",
   "name": "python",
   "nbconvert_exporter": "python",
   "pygments_lexer": "ipython3",
   "version": "3.8.5"
  }
 },
 "nbformat": 4,
 "nbformat_minor": 4
}
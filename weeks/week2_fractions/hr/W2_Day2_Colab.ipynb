{
 "cells": [
  {
   "cell_type": "code",
   "execution_count": null,
   "metadata": {},
   "outputs": [],
   "source": [
    "# Pokreni me! Pogledaj današnji papirnati list za plan.\n",
    "\n",
    "# Graditelj Zida Razlomaka - Vizualna Ekvivalentnost Razlomaka\n",
    "# Ovaj program stvara šareni zid koji pokazuje kako se razlomci razgranjuju\n",
    "# Svaki red pokazuje kako je cjelina podijeljena na jednake dijelove\n",
    "\n",
    "print(\"🧱 Gradimo Zid Razlomaka!\")\n",
    "print(\"Gledaj kako razlomci postaju manji dok dijelimo na više komada\")\n",
    "print()\n",
    "\n",
    "# Paleta boja za naše blokove razlomaka\n",
    "colors = ['🟥', '🟦', '🟩', '🟨', '🟪', '🟧']\n",
    "print(\"Ključ boja:\", ' '.join(colors))\n",
    "print()\n",
    "\n",
    "# Uobičajeni nazivnici za prikaz\n",
    "denominators = [2, 3, 4, 6]\n",
    "\n",
    "# Izgradi svaki red zida razlomaka\n",
    "for d in denominators:\n",
    "    # Stvori red koji pokazuje sve jednake dijelove\n",
    "    row = ''\n",
    "    for i in range(d):\n",
    "        # Ciklički kroz boje za stvaranje uzoraka\n",
    "        color_index = i % len(colors)\n",
    "        row += colors[color_index]\n",
    "    \n",
    "    # Prikaži razgradnju razlomka\n",
    "    print(f\"Dijelovi 1/{d}: {row} (svaki komad = 1/{d})\")\n",
    "    \n",
    "    # Prikaži specifične primjere razlomaka\n",
    "    if d == 2:\n",
    "        print(f\"   → 1/2 = {colors[0]} (jedan komad od dva)\")\n",
    "    elif d == 4:\n",
    "        print(f\"   → 1/4 = {colors[0]}, 2/4 = {colors[0]}{colors[1]}, 3/4 = {colors[0]}{colors[1]}{colors[2]}\")\n",
    "\n",
    "print()\n",
    "print(\"🔍 Primijeti: Više komada = manji razlomci!\")\n",
    "\n",
    "### TODO ###\n",
    "# 1. Dodaj red za osmine (nazivnik = 8) koristeći svoj vlastiti uzorak boja\n",
    "# 2. Pokušaj promijeniti listu boja za stvaranje različitih uzoraka\n",
    "# 3. Dodaj redove za petine i desetine da istražiš veze s decimalima"
   ]
  }
 ],
 "metadata": {
  "kernelspec": {
   "display_name": "Python 3",
   "language": "python",
   "name": "python3"
  },
  "language_info": {
   "codemirror_mode": {
    "name": "ipython",
    "version": 3
   },
   "file_extension": ".py",
   "mimetype": "text/x-python",
   "name": "python",
   "nbconvert_exporter": "python",
   "pygments_lexer": "ipython3",
   "version": "3.8.5"
  }
 },
 "nbformat": 4,
 "nbformat_minor": 4
}
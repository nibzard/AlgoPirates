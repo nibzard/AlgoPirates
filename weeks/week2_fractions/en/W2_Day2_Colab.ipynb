{
 "cells": [
  {
   "cell_type": "code",
   "metadata": {},
   "source": "# Run me! See today's paper sheet for the plan.\n\n# Fraction Wall Builder - Visual Fraction Equivalence\n# This program creates a colorful wall showing how fractions break down\n# Each row shows how a whole is divided into equal parts\n\nprint(\"🧱 Building a Fraction Wall!\")\nprint(\"Watch how fractions get smaller as we divide into more pieces\")\nprint()\n\n# Color palette for our fraction blocks\ncolors = ['🟥', '🟦', '🟩', '🟨', '🟪', '🟧']\nprint(\"Color key:\", ' '.join(colors))\nprint()\n\n# Common denominators to display\ndenominators = [2, 3, 4, 6]\n\n# Build each row of the fraction wall\nfor d in denominators:\n    # Create a row showing all the equal parts\n    row = ''\n    for i in range(d):\n        # Cycle through colors to make patterns\n        color_index = i % len(colors)\n        row += colors[color_index]\n    \n    # Show the fraction breakdown\n    print(f\"1/{d} parts: {row} (each piece = 1/{d})\")\n    \n    # Show specific fraction examples\n    if d == 2:\n        print(f\"   → 1/2 = {colors[0]} (one piece out of two)\")\n    elif d == 4:\n        print(f\"   → 1/4 = {colors[0]}, 2/4 = {colors[0]}{colors[1]}, 3/4 = {colors[0]}{colors[1]}{colors[2]}\")\n\nprint()\nprint(\"🔍 Notice: More pieces = smaller fractions!\")\n\n### TODO ###\n# 1. Add a row for eighths (denominator = 8) using your own color pattern\n# 2. Try changing the colors list to create different patterns\n# 3. Add rows for fifths and tenths to explore decimal connections",
   "outputs": []
  }
 ],
 "metadata": {},
 "nbformat": 4,
 "nbformat_minor": 2
}
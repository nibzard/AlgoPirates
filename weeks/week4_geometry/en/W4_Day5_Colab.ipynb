{
 "cells": [
  {
   "cell_type": "code",
   "metadata": {},
   "source": "# Run me! See today's paper sheet for the plan.\n\n# Pixel Flag Creator - Geometry & Art (Week 4)\n# Draw colorful flag stripes using turtle graphics and coordinate geometry\n\nimport turtle\n\nprint(\"🎨 Creating a pixel flag with turtle graphics!\")\n\n# Set up the turtle\nt = turtle.Turtle()\nt.speed(5)  # Medium speed so you can watch it draw\n\n# Flag dimensions and colors\nstripe_height = 40\nflag_width = 120\ncolors = ['red', 'white', 'blue']\n\n# Draw 3 horizontal stripes\nfor row in range(3):\n    # Move to starting position for this stripe\n    t.penup()\n    t.goto(-60, 60 - row * stripe_height)  # Calculate y-position\n    t.pendown()\n    \n    # Set fill color and start filling\n    t.fillcolor(colors[row])\n    t.begin_fill()\n    \n    # Draw rectangle (stripe)\n    for side in range(2):\n        t.forward(flag_width)\n        t.right(90)\n        t.forward(stripe_height)\n        t.right(90)\n    \n    t.end_fill()\n\n### TODO ###\n# 1. Change the colors list to make your own flag design\n# 2. Try changing stripe_height or flag_width for different proportions\n# 3. Add more stripes by changing range(3) to range(5)\n\nt.hideturtle()\nturtle.done()",
   "outputs": []
  }
 ],
 "metadata": {},
 "nbformat": 4,
 "nbformat_minor": 2
}
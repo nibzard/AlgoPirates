{
 "cells": [
  {
   "cell_type": "code",
   "metadata": {},
   "source": "# Run me! See today's paper sheet for the plan.\n\n# Pixel Flag Creator - Geometry & Art (Week 4)\nimport turtle\n\nprint(\"🎨 Creating a pixel flag with turtle graphics!\")\n\npen = turtle.Turtle()\npen.speed(5)\nstripe_height = 40\nflag_width = 120\ncolors = ['red', 'white', 'blue']\n\nfor row in range(3):\n    pen.penup()\n    pen.goto(-60, 60 - row * stripe_height)\n    pen.pendown()\n    pen.fillcolor(colors[row])\n    pen.begin_fill()\n    for side in range(2):\n        pen.forward(flag_width); pen.right(90)\n        pen.forward(stripe_height); pen.right(90)\n    pen.end_fill()\n\n### TODO ### Change colors, stripe_height, or add more stripes!\npen.hideturtle(); turtle.done()",
   "outputs": []
  }
 ],
 "metadata": {},
 "nbformat": 4,
 "nbformat_minor": 2
}
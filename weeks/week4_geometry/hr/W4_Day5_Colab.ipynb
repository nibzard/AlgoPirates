{
 "cells": [
  {
   "cell_type": "code",
   "execution_count": null,
   "id": "cell-0",
   "metadata": {},
   "outputs": [],
   "source": [
    "# Pokreni me! Pogledaj današnji papirnati list za plan.\n",
    "\n",
    "# Stvaratelj pikselske zastave - Geometrija i umjetnost (Tjedan 4)\n",
    "# Crtaj šarene pruge zastave koristeći turtle graphics i koordinatnu geometriju\n",
    "\n",
    "import turtle\n",
    "\n",
    "print(\"🎨 Stvaram pikselsku zastavu s turtle graphics!\")\n",
    "\n",
    "# Postavi turtle\n",
    "t = turtle.Turtle()\n",
    "t.speed(5)  # Srednja brzina da možeš gledati kako crta\n",
    "\n",
    "# Dimenzije zastave i boje\n",
    "visina_pruge = 40\n",
    "sirina_zastave = 120\n",
    "boje = ['red', 'white', 'blue']\n",
    "\n",
    "# Nacrtaj 3 vodoravne pruge\n",
    "for red in range(3):\n",
    "    # Pomakni se na početnu poziciju za ovu prugu\n",
    "    t.penup()\n",
    "    t.goto(-60, 60 - red * visina_pruge)  # Izračunaj y-poziciju\n",
    "    t.pendown()\n",
    "    \n",
    "    # Postavi boju punjenja i počni puniti\n",
    "    t.fillcolor(boje[red])\n",
    "    t.begin_fill()\n",
    "    \n",
    "    # Nacrtaj pravokutnik (prugu)\n",
    "    for stranica in range(2):\n",
    "        t.forward(sirina_zastave)\n",
    "        t.right(90)\n",
    "        t.forward(visina_pruge)\n",
    "        t.right(90)\n",
    "    \n",
    "    t.end_fill()\n",
    "\n",
    "### TODO ###\n",
    "# 1. Promijeni listu boja da napraviš dizajn svoje zastave\n",
    "# 2. Pokušaj promijeniti visina_pruge ili sirina_zastave za različite proporcije\n",
    "# 3. Dodaj više pruga promjenom range(3) u range(5)\n",
    "\n",
    "t.hideturtle()\n",
    "turtle.done()"
   ]
  }
 ],
 "metadata": {
  "kernelspec": {
   "display_name": "Python 3",
   "language": "python",
   "name": "python3"
  },
  "language_info": {
   "codemirror_mode": {
    "name": "ipython",
    "version": 3
   },
   "file_extension": ".py",
   "mimetype": "text/x-python",
   "name": "python",
   "nbconvert_exporter": "python",
   "pygments_lexer": "ipython3",
   "version": "3.8.5"
  }
 },
 "nbformat": 4,
 "nbformat_minor": 4
}
{
 "cells": [
  {
   "cell_type": "code",
   "id": "cell-0",
   "metadata": {},
   "outputs": [],
   "source": "# Pokreni me! Pogledaj današnji radni list za plan.\n\n# Kreator Pixel zastave - Geometrija i umjetnost (Tjedan 4)\nimport turtle\n\nprint(\"🎨 Kreiranje pixel zastave s turtle grafikom!\")\n\nolovka = turtle.Turtle()\nolovka.speed(5)\nvisina_pruge = 40\nsirina_zastave = 120\nboje = ['red', 'white', 'blue']\n\nfor red in range(3):\n    olovka.penup()\n    olovka.goto(-60, 60 - red * visina_pruge)\n    olovka.pendown()\n    olovka.fillcolor(boje[red])\n    olovka.begin_fill()\n    for strana in range(2):\n        olovka.forward(sirina_zastave); olovka.right(90)\n        olovka.forward(visina_pruge); olovka.right(90)\n    olovka.end_fill()\n\n### TODO ### Promijeni boje, visinu_pruge ili dodaj više pruga!\nolovka.hideturtle(); turtle.done()"
  }
 ],
 "metadata": {
  "kernelspec": {
   "display_name": "Python 3",
   "language": "python",
   "name": "python3"
  },
  "language_info": {
   "codemirror_mode": {
    "name": "ipython",
    "version": 3
   },
   "file_extension": ".py",
   "mimetype": "text/x-python",
   "name": "python",
   "nbconvert_exporter": "python",
   "pygments_lexer": "ipython3",
   "version": "3.8.5"
  }
 },
 "nbformat": 4,
 "nbformat_minor": 4
}
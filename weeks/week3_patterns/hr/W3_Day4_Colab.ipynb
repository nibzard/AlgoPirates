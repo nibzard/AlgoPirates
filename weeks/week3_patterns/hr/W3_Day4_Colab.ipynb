{
 "cells": [
  {
   "cell_type": "code",
   "execution_count": null,
   "metadata": {},
   "outputs": [],
   "source": [
    "# Pokreni me! Pogledaj današnji papirnati list za plan.\n",
    "grid=[[0,1,0],[1,1,0],[0,0,1]]\n",
    "\n",
    "def neighbours(g,r,c):\n",
    "    return sum(g[r+i][c+j]\n",
    "               for i in(-1,0,1) for j in(-1,0,1)\n",
    "               if(i or j)and 0<=r+i<len(g) and 0<=c+j<len(g[0]))\n",
    "\n",
    "new=[]\n",
    "for r,row in enumerate(grid):\n",
    "    line=[]\n",
    "    for c,val in enumerate(row):\n",
    "        n=neighbours(grid,r,c)\n",
    "        line.append(1 if val and n in(2,3) or (not val and n==3) else 0)\n",
    "    new.append(line)\n",
    "print(new)\n",
    "### TODO ###\n",
    "# Promijeni 'grid' i pokreni ponovno"
   ]
  }
 ],
 "metadata": {
  "kernelspec": {
   "display_name": "Python 3",
   "language": "python",
   "name": "python3"
  },
  "language_info": {
   "codemirror_mode": {
    "name": "ipython",
    "version": 3
   },
   "file_extension": ".py",
   "mimetype": "text/x-python",
   "name": "python",
   "nbconvert_exporter": "python",
   "pygments_lexer": "ipython3",
   "version": "3.8.5"
  }
 },
 "nbformat": 4,
 "nbformat_minor": 4
}
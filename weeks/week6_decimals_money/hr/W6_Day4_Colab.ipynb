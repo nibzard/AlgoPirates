{
 "cells": [
  {
   "cell_type": "code",
   "id": "cell-0",
   "metadata": {},
   "outputs": [],
   "source": "# Pokreni me! Pogledaj današnji radni list za plan.\n\n# Kalkulator za vraćanje ostatka - Pohlepni algoritam\n# Ovaj program pronalazi najefikasniji način vraćanja ostatka\n\ndef vrati_ostatak(cijena, placeno):\n    \"\"\"Izračunaj ostatak i vrati najmanji broj novčanica/kovanica\"\"\"\n    \n    # Izračunaj ukupni potreban ostatak\n    potreban_ostatak = placeno - cijena\n    print(f\"Potreban ostatak: ${potreban_ostatak:.2f}\")\n    \n    # Dostupne vrijednosti (najveće prvo za pohlepni algoritam)\n    vrijednosti = [20.00, 10.00, 5.00, 1.00, 0.25, 0.10, 0.05, 0.01]\n    nazivi = [\"novčanica od $20\", \"novčanica od $10\", \"novčanica od $5\", \n              \"novčanica od $1\", \"kovanica od 25¢\", \"kovanica od 10¢\", \n              \"kovanica od 5¢\", \"kovanica od 1¢\"]\n    \n    preostalo = round(potreban_ostatak, 2)  # Zaokruži da izbjegneš greške\n    raspodjela_ostatka = []\n    \n    ### TODO ### Dovrši petlju pohlepnog algoritma\n    # SAVJET: Za svaku vrijednost, izračunaj koliko možeš koristiti\n    # zatim oduzmi taj iznos od preostalog\n    for i in range(len(vrijednosti)):\n        # Izračunaj koliko ove vrijednosti možemo koristiti\n        broj = ___  # UČENIK: Ispuni - podijeli preostalo s vrijednosti[i]\n        \n        if broj > 0:\n            # Dodaj u našu raspodjelu ostatka\n            raspodjela_ostatka.append(f\"{broj} {nazivi[i]}\")\n            # Ažuriraj preostali iznos\n            preostalo = ___  # UČENIK: Ispuni - oduzmi korišteni iznos od preostalog\n            preostalo = round(preostalo, 2)  # Zaokruži da izbjegneš greške\n    \n    return raspodjela_ostatka\n\n# Testiraj funkciju\ncijena_artikla = 7.35\nplacanje = 10.00\nrezultat = vrati_ostatak(cijena_artikla, placanje)\nprint(\"Vrati:\")\nfor stavka in rezultat:\n    print(f\"  {stavka}\")"
  }
 ],
 "metadata": {
  "kernelspec": {
   "display_name": "Python 3",
   "language": "python",
   "name": "python3"
  },
  "language_info": {
   "codemirror_mode": {
    "name": "ipython",
    "version": 3
   },
   "file_extension": ".py",
   "mimetype": "text/x-python",
   "name": "python",
   "nbconvert_exporter": "python",
   "pygments_lexer": "ipython3",
   "version": "3.8.5"
  }
 },
 "nbformat": 4,
 "nbformat_minor": 4
}
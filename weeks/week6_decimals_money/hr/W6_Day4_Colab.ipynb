{
 "cells": [
  {
   "cell_type": "code",
   "execution_count": null,
   "id": "cell-0",
   "metadata": {},
   "outputs": [],
   "source": [
    "# Pokreni me! Pogledaj današnji papirnati list za plan.\n",
    "\n",
    "# Kalkulator za davanje kusura - Pohlepni algoritam\n",
    "# Ovaj program pronalazi najučinkovitiji način davanja kusura\n",
    "\n",
    "def napravi_kusur(trosak, placeno):\n",
    "    \"\"\"Izračunaj kusur i vrati najmanje potrebnih kovanica/novčanica\"\"\"\n",
    "    \n",
    "    # Izračunaj ukupni potrebni kusur\n",
    "    potreban_kusur = placeno - trosak\n",
    "    print(f\"Potreban kusur: {potreban_kusur:.2f} kn\")\n",
    "    \n",
    "    # Dostupni novčići (najveći prvi za pohlepni algoritam)\n",
    "    novcanice = [200.00, 100.00, 50.00, 20.00, 10.00, 5.00, 2.00, 1.00, 0.50, 0.20, 0.10, 0.05]\n",
    "    nazivi = [\"200 kn novčanica\", \"100 kn novčanica\", \"50 kn novčanica\", \"20 kn novčanica\", \n",
    "             \"10 kn novčanica\", \"5 kn novčanica\", \"2 kn kovanica\", \"1 kn kovanica\",\n",
    "             \"50 lipa\", \"20 lipa\", \"10 lipa\", \"5 lipa\"]\n",
    "    \n",
    "    preostalo = round(potreban_kusur, 2)  # Zaokruži da izbjegneš greške s decimalnim brojevima\n",
    "    rastava_kusura = []\n",
    "    \n",
    "    ### TODO ### Završi petlju pohlepnog algoritma\n",
    "    for i in range(len(novcanice)):\n",
    "        broj = int(preostalo / novcanice[i])\n",
    "        if broj > 0:\n",
    "            rastava_kusura.append(f\"{broj} {nazivi[i]}\")\n",
    "            preostalo = round(preostalo - broj * novcanice[i], 2)\n",
    "    \n",
    "    return rastava_kusura\n",
    "\n",
    "# Testiraj funkciju\n",
    "trosak_stavke = 52.35\n",
    "placeno = 70.00\n",
    "rezultat = napravi_kusur(trosak_stavke, placeno)\n",
    "print(\"Vrati:\")\n",
    "for stavka in rezultat:\n",
    "    print(f\"  {stavka}\")"
   ]
  }
 ],
 "metadata": {
  "kernelspec": {
   "display_name": "Python 3",
   "language": "python",
   "name": "python3"
  },
  "language_info": {
   "codemirror_mode": {
    "name": "ipython",
    "version": 3
   },
   "file_extension": ".py",
   "mimetype": "text/x-python",
   "name": "python",
   "nbconvert_exporter": "python",
   "pygments_lexer": "ipython3",
   "version": "3.8.5"
  }
 },
 "nbformat": 4,
 "nbformat_minor": 4
}
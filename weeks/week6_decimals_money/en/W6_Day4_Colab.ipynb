{
 "cells": [
  {
   "cell_type": "code",
   "execution_count": null,
   "metadata": {},
   "outputs": [],
   "source": [
    "# Run me! See today's paper sheet for the plan.\n",
    "\n",
    "# Make Change Calculator - Greedy Algorithm\n",
    "# This program finds the most efficient way to make change\n",
    "\n",
    "def make_change(cost, paid):\n",
    "    \"\"\"Calculate change and return the fewest coins/bills needed\"\"\"\n",
    "    \n",
    "    # Calculate total change needed\n",
    "    change_needed = paid - cost\n",
    "    print(f\"Change needed: ${change_needed:.2f}\")\n",
    "    \n",
    "    # Available denominations (largest first for greedy algorithm)\n",
    "    denominations = [20.00, 10.00, 5.00, 1.00, 0.25, 0.10, 0.05, 0.01]\n",
    "    names = [\"$20 bills\", \"$10 bills\", \"$5 bills\", \"$1 bills\", \n",
    "             \"quarters\", \"dimes\", \"nickels\", \"pennies\"]\n",
    "    \n",
    "    remaining = round(change_needed, 2)  # Round to avoid floating point errors\n",
    "    change_breakdown = []\n",
    "    \n",
    "    ### TODO ### Complete the greedy algorithm loop\n",
    "    for i in range(len(denominations)):\n",
    "        count = int(remaining / denominations[i])\n",
    "        if count > 0:\n",
    "            change_breakdown.append(f\"{count} {names[i]}\")\n",
    "            remaining = round(remaining - count * denominations[i], 2)\n",
    "    \n",
    "    return change_breakdown\n",
    "\n",
    "# Test the function\n",
    "item_cost = 7.35\n",
    "payment = 10.00\n",
    "result = make_change(item_cost, payment)\n",
    "print(\"Give back:\")\n",
    "for item in result:\n",
    "    print(f\"  {item}\")"
   ]
  }
 ],
 "metadata": {
  "kernelspec": {
   "display_name": "Python 3",
   "language": "python",
   "name": "python3"
  },
  "language_info": {
   "codemirror_mode": {
    "name": "ipython",
    "version": 3
   },
   "file_extension": ".py",
   "mimetype": "text/x-python",
   "name": "python",
   "nbconvert_exporter": "python",
   "pygments_lexer": "ipython3",
   "version": "3.8.5"
  }
 },
 "nbformat": 4,
 "nbformat_minor": 4
}
{
 "cells": [
  {
   "cell_type": "code",
   "metadata": {},
   "outputs": [],
   "source": "# Run me! See today's paper sheet for the plan.\n\n# Make Change Calculator - Greedy Algorithm\n# This program finds the most efficient way to make change\n\ndef make_change(cost, paid):\n    \"\"\"Calculate change and return the fewest coins/bills needed\"\"\"\n    \n    # Calculate total change needed\n    change_needed = paid - cost\n    print(f\"Change needed: ${change_needed:.2f}\")\n    \n    # Available denominations (largest first for greedy algorithm)\n    denominations = [20.00, 10.00, 5.00, 1.00, 0.25, 0.10, 0.05, 0.01]\n    names = [\"$20 bills\", \"$10 bills\", \"$5 bills\", \"$1 bills\", \n             \"quarters\", \"dimes\", \"nickels\", \"pennies\"]\n    \n    remaining = round(change_needed, 2)  # Round to avoid floating point errors\n    change_breakdown = []\n    \n    ### TODO ### Complete the greedy algorithm loop\n    # HINT: For each denomination, calculate how many you can use\n    # then subtract that amount from remaining\n    for i in range(len(denominations)):\n        # Calculate how many of this denomination we can use\n        count = ___  # STUDENT: Fill in - divide remaining by denominations[i]\n        \n        if count > 0:\n            # Add to our change breakdown\n            change_breakdown.append(f\"{count} {names[i]}\")\n            # Update remaining amount\n            remaining = ___  # STUDENT: Fill in - subtract used amount from remaining\n            remaining = round(remaining, 2)  # Round to avoid errors\n    \n    return change_breakdown\n\n# Test the function\nitem_cost = 7.35\npayment = 10.00\nresult = make_change(item_cost, payment)\nprint(\"Give back:\")\nfor item in result:\n    print(f\"  {item}\")"
  }
 ],
 "metadata": {
  "kernelspec": {
   "display_name": "Python 3",
   "language": "python",
   "name": "python3"
  },
  "language_info": {
   "codemirror_mode": {
    "name": "ipython",
    "version": 3
   },
   "file_extension": ".py",
   "mimetype": "text/x-python",
   "name": "python",
   "nbconvert_exporter": "python",
   "pygments_lexer": "ipython3",
   "version": "3.8.5"
  }
 },
 "nbformat": 4,
 "nbformat_minor": 4
}
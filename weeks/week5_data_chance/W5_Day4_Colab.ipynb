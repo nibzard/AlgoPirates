{
 "cells": [
  {
   "cell_type": "code",
   "execution_count": null,
   "metadata": {},
   "outputs": [],
   "source": [
    "# Run me!  See today's paper sheet for the plan.\n",
    "import random\n",
    "import matplotlib.pyplot as plt\n",
    "flips = []\n",
    "heads = 0\n",
    "for toss in range(10):\n",
    "    if random.random() < 0.5:\n",
    "        flips.append('H')\n",
    "        heads += 1\n",
    "    else:\n",
    "        flips.append('T')\n",
    "print(flips)\n",
    "print('Heads:', heads)\n",
    "plt.bar(['H','T'], [heads, 10 - heads])\n",
    "plt.show()\n",
    "### TODO ###\n",
    "# Experiment: change range(10) to 100 and observe the graph\n"
   ]
  }
 ],
 "metadata": {
  "kernelspec": {
   "display_name": "Python 3",
   "language": "python",
   "name": "python3"
  },
  "language_info": {
   "name": "python",
   "version": "3.8"
  }
 },
 "nbformat": 4,
 "nbformat_minor": 2
}

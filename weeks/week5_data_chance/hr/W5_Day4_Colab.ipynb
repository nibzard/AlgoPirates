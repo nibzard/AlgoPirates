{
 "cells": [
  {
   "cell_type": "code",
   "execution_count": null,
   "id": "cell-0",
   "metadata": {},
   "outputs": [],
   "source": [
    "# Pokreni me! Pogledaj današnji papirnati list za plan.\n",
    "\n",
    "# Vjerojatnost bacanja novčića - Podaci i vjerojatnost (Tjedan 5)\n",
    "# Simuliraj bacanja novčića i vizualiziraj rezultate stupčastim grafom\n",
    "\n",
    "import random\n",
    "import matplotlib.pyplot as plt\n",
    "\n",
    "print(\"🪙 Eksperiment bacanja novčića\")\n",
    "print(\"Bacam novčiće i pratim glave protiv pisma...\")\n",
    "\n",
    "bacanja = []\n",
    "glave = 0\n",
    "\n",
    "# Baci novčiće 10 puta (pokušaj promijeniti ovaj broj!)\n",
    "for bacanje in range(10):\n",
    "    if random.random() < 0.5:\n",
    "        bacanja.append('G')\n",
    "        glave += 1\n",
    "    else:\n",
    "        bacanja.append('P')\n",
    "\n",
    "pisma = 10 - glave\n",
    "\n",
    "# Pokaži rezultate\n",
    "print(\"Rezultati:\", ''.join(bacanja))\n",
    "print(f\"Glave: {glave}, Pisma: {pisma}\")\n",
    "\n",
    "# Stvori stupčasti graf za vizualizaciju podataka\n",
    "plt.bar(['Glave', 'Pisma'], [glave, pisma], color=['gold', 'silver'])\n",
    "plt.title('Rezultati bacanja novčića')\n",
    "plt.ylabel('Broj')\n",
    "plt.show()\n",
    "\n",
    "### TODO ###\n",
    "# 1. Promijeni range(10) u 100 i promatraj kako se rezultati približavaju 50/50\n",
    "# 2. Pokušaj 1000 bacanja - što primjećuješ o omjeru?"
   ]
  }
 ],
 "metadata": {
  "kernelspec": {
   "display_name": "Python 3",
   "language": "python",
   "name": "python3"
  },
  "language_info": {
   "codemirror_mode": {
    "name": "ipython",
    "version": 3
   },
   "file_extension": ".py",
   "mimetype": "text/x-python",
   "name": "python",
   "nbconvert_exporter": "python",
   "pygments_lexer": "ipython3",
   "version": "3.8.5"
  }
 },
 "nbformat": 4,
 "nbformat_minor": 4
}
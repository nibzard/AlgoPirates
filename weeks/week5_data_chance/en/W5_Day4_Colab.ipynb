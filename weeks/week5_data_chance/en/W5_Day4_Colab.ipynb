{
 "cells": [
  {
   "cell_type": "code",
   "metadata": {},
   "outputs": [],
   "source": "# Run me! See today's paper sheet for the plan.\n\n# Coin Flip Probability - Data & Chance (Week 5)\n# Simulate coin flips and visualize the results with a bar chart\n\nimport random\nimport matplotlib.pyplot as plt\n\nprint(\"🪙 Coin Flip Experiment\")\nprint(\"Flipping coins and tracking heads vs tails...\")\n\nflips = []\nheads = 0\n\n# Flip coins 10 times (try changing this number!)\nfor toss in range(10):\n    if random.random() < 0.5:\n        flips.append('H')\n        heads += 1\n    else:\n        flips.append('T')\n\ntails = 10 - heads\n\n# Show the results\nprint(\"Results:\", ''.join(flips))\nprint(f\"Heads: {heads}, Tails: {tails}\")\n\n# Create a bar chart to visualize the data\nplt.bar(['Heads', 'Tails'], [heads, tails], color=['gold', 'silver'])\nplt.title('Coin Flip Results')\nplt.ylabel('Count')\nplt.show()\n\n### TODO ###\n# 1. Change range(10) to 100 and observe how the results get closer to 50/50\n# 2. Try 1000 flips - what do you notice about the ratio?"
  }
 ],
 "metadata": {
  "kernelspec": {
   "display_name": "Python 3",
   "language": "python",
   "name": "python3"
  },
  "language_info": {
   "name": "python",
   "version": "3.8"
  }
 },
 "nbformat": 4,
 "nbformat_minor": 2
}
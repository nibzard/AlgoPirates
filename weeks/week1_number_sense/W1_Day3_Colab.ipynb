{
 "cells": [
  {
   "cell_type": "code",
   "metadata": {},
   "source": [
    "# Run me!  See today's paper sheet for the plan.\n",
    "height = 0\n",
    "for step in range(5):\n",
    "    height += 2\n",
    "    print('Step', step + 1, 'height:', height)\n",
    "\n",
    "### TODO ###\n",
    "# Change the increment to practice multiplication.\n"
   ]
  }
 ],
 "metadata": {},
 "nbformat": 4,
 "nbformat_minor": 2
}

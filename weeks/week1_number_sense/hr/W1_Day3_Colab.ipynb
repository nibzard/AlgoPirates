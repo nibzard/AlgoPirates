{
 "cells": [
  {
   "cell_type": "code",
   "execution_count": null,
   "metadata": {},
   "outputs": [],
   "source": [
    "# Pokreni me! Pogledaj današnji papirnati list za plan.\n",
    "\n",
    "# Izazov Gradnje Tornja - Vježba Petlje i Množenja\n",
    "# Ovaj program simulira gradnju tornja korak po korak\n",
    "# Vježbat ćemo množenje kroz ponavljano zbrajanje\n",
    "\n",
    "print(\"🏗️ Gradimo tvoj toranj korak po korak!\")\n",
    "print(\"Svaki korak dodaje blokove da toranj bude viši\")\n",
    "print()\n",
    "\n",
    "# Počni s praznim tornjem (visina = 0)\n",
    "height = 0\n",
    "\n",
    "# Gradi toranj u 5 koraka\n",
    "for step in range(5):\n",
    "    # Svaki korak dodaje 2 bloka (možeš ovo promijeniti!)\n",
    "    blocks_added = 2\n",
    "    height += blocks_added\n",
    "    \n",
    "    # Prikaži napredak nakon svakog koraka\n",
    "    print(f'Korak {step + 1}: Dodano {blocks_added} blokova, ukupna visina: {height}')\n",
    "\n",
    "print()\n",
    "print(f\"🎉 Toranj završen! Konačna visina: {height} blokova\")\n",
    "print(f\"Dodali smo {blocks_added} blokova po koraku × 5 koraka = {blocks_added * 5} ukupno blokova\")\n",
    "\n",
    "### TODO ###\n",
    "# 1. Promijeni 'blocks_added' za vježbu različitih tablica množenja\n",
    "# 2. Pokušaj promijeniti range(5) da gradiš više ili manje koraka\n",
    "# 3. Možeš li predvidjeti konačnu visinu prije pokretanja?"
   ]
  }
 ],
 "metadata": {
  "kernelspec": {
   "display_name": "Python 3",
   "language": "python",
   "name": "python3"
  },
  "language_info": {
   "codemirror_mode": {
    "name": "ipython",
    "version": 3
   },
   "file_extension": ".py",
   "mimetype": "text/x-python",
   "name": "python",
   "nbconvert_exporter": "python",
   "pygments_lexer": "ipython3",
   "version": "3.8.5"
  }
 },
 "nbformat": 4,
 "nbformat_minor": 4
}
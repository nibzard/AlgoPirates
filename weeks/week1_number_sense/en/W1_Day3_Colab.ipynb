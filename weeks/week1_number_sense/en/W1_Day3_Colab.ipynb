{
 "cells": [
  {
   "cell_type": "code",
   "metadata": {},
   "source": "# Run me! See today's paper sheet for the plan.\n\n# Tower Building Challenge - Loops & Multiplication Practice\n# This program simulates building a tower step by step\n# We'll practice multiplication through repeated addition\n\nprint(\"🏗️ Building your tower step by step!\")\nprint(\"Each step adds blocks to make the tower taller\")\nprint()\n\n# Start with an empty tower (height = 0)\nheight = 0\n\n# Build the tower in 5 steps\nfor step in range(5):\n    # Each step adds 2 blocks (you can change this!)\n    blocks_added = 2\n    height += blocks_added\n    \n    # Show the progress after each step\n    print(f'Step {step + 1}: Added {blocks_added} blocks, total height: {height}')\n\nprint()\nprint(f\"🎉 Tower complete! Final height: {height} blocks\")\nprint(f\"We added {blocks_added} blocks per step × 5 steps = {blocks_added * 5} total blocks\")\n\n### TODO ###\n# 1. Change the 'blocks_added' to practice different multiplication tables\n# 2. Try changing range(5) to build more or fewer steps\n# 3. Can you predict the final height before running?",
   "outputs": []
  }
 ],
 "metadata": {},
 "nbformat": 4,
 "nbformat_minor": 2
}
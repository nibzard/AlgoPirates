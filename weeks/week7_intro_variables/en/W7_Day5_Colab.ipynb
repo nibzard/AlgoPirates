{
 "cells": [
  {
   "cell_type": "code",
   "metadata": {},
   "outputs": [],
   "source": "# Run me! See today's paper sheet for the plan.\n\n# Shape Calculator - Variables in Geometry (Week 7)\n# Practice using variables to calculate area, perimeter, and volume\n\nprint(\"📐 Shape Calculator - Using Variables!\")\n\ndef rectangle_calculator():\n    \"\"\"Calculate area and perimeter of a rectangle using variables\"\"\"\n    print(\"\\n=== Rectangle Calculator ===\")\n    \n    # Get user input and store in variables\n    length = float(input(\"Enter the length: \"))\n    width = float(input(\"Enter the width: \"))\n    \n    ### TODO ### Use the variables to calculate area and perimeter\n    area = length * width\n    perimeter = 2 * length + 2 * width\n    \n    print(f\"Length: {length} units, Width: {width} units\")\n    print(f\"Area: {area} square units\")\n    print(f\"Perimeter: {perimeter} units\")\n\ndef cube_calculator():\n    \"\"\"Calculate volume of a cube using the side length variable\"\"\"\n    print(\"\\n=== Cube Volume Calculator ===\")\n    \n    # Get cube side length\n    side = float(input(\"Enter the side length: \"))\n    \n    ### TODO ### Calculate volume using the variable 'side'\n    volume = side * side * side  # Could also write: side**3\n    \n    print(f\"Side length: {side} units\")\n    print(f\"Volume: {volume} cubic units\")\n\n# Run both calculators\nrectangle_calculator()\ncube_calculator()\n\nprint(\"\\n🎉 Great job using variables in geometry calculations!\")"
  }
 ],
 "metadata": {
  "kernelspec": {
   "display_name": "Python 3",
   "language": "python",
   "name": "python3"
  },
  "language_info": {
   "codemirror_mode": {
    "name": "ipython",
    "version": 3
   },
   "file_extension": ".py",
   "mimetype": "text/x-python",
   "name": "python",
   "nbconvert_exporter": "python",
   "pygments_lexer": "ipython3",
   "version": "3.8.5"
  }
 },
 "nbformat": 4,
 "nbformat_minor": 4
}
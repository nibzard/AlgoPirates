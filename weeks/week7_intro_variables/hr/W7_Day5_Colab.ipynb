{
 "cells": [
  {
   "cell_type": "code",
   "execution_count": null,
   "metadata": {},
   "outputs": [],
   "source": [
    "# Pokreni me! Pogledaj današnji papirni list za plan.\n",
    "\n",
    "# Kalkulator oblika - Varijable u geometriji (Tjedan 7)\n",
    "# Vježbaj korištenje varijabli za izračun površine, opsega i volumena\n",
    "\n",
    "print(\"📐 Kalkulator oblika - Korištenjem varijabli!\")\n",
    "\n",
    "def kalkulator_pravokutnika():\n",
    "    \"\"\"Izračunaj površinu i opseg pravokutnika koristeći varijable\"\"\"\n",
    "    print(\"\\n=== Kalkulator pravokutnika ===\")\n",
    "    \n",
    "    # Uzmi korisnički unos i spremi u varijable\n",
    "    duljina = float(input(\"Unesi duljinu: \"))\n",
    "    sirina = float(input(\"Unesi širinu: \"))\n",
    "    \n",
    "    ### TODO ### Koristi varijable za izračun površine i opsega\n",
    "    povrsina = duljina * sirina\n",
    "    opseg = 2 * duljina + 2 * sirina\n",
    "    \n",
    "    print(f\"Duljina: {duljina} jedinica, Širina: {sirina} jedinica\")\n",
    "    print(f\"Površina: {povrsina} kvadratnih jedinica\")\n",
    "    print(f\"Opseg: {opseg} jedinica\")\n",
    "\n",
    "def kalkulator_kocke():\n",
    "    \"\"\"Izračunaj volumen kocke koristeći varijablu duljine stranice\"\"\"\n",
    "    print(\"\\n=== Kalkulator volumena kocke ===\")\n",
    "    \n",
    "    # Uzmi duljinu stranice kocke\n",
    "    stranica = float(input(\"Unesi duljinu stranice: \"))\n",
    "    \n",
    "    ### TODO ### Izračunaj volumen koristeći varijablu 'stranica'\n",
    "    volumen = stranica * stranica * stranica  # Mogao bi i pisati: stranica**3\n",
    "    \n",
    "    print(f\"Duljina stranice: {stranica} jedinica\")\n",
    "    print(f\"Volumen: {volumen} kubnih jedinica\")\n",
    "\n",
    "# Pokreni oba kalkulatora\n",
    "kalkulator_pravokutnika()\n",
    "kalkulator_kocke()\n",
    "\n",
    "print(\"\\n🎉 Odličan posao koristeći varijable u geometrijskim izračunima!\")"
   ]
  }
 ],
 "metadata": {
  "kernelspec": {
   "display_name": "Python 3",
   "language": "python",
   "name": "python3"
  },
  "language_info": {
   "codemirror_mode": {
    "name": "ipython",
    "version": 3
   },
   "file_extension": ".py",
   "mimetype": "text/x-python",
   "name": "python",
   "nbconvert_exporter": "python",
   "pygments_lexer": "ipython3",
   "version": "3.8.5"
  }
 },
 "nbformat": 4,
 "nbformat_minor": 4
}
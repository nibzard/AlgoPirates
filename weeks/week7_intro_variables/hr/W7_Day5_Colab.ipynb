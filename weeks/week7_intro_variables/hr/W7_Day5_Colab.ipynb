{
 "cells": [
  {
   "cell_type": "code",
   "metadata": {},
   "outputs": [],
   "source": "# Pokreni me! Pogledaj današnji radni list za plan.\n\n# Kalkulator oblika - Varijable u geometriji (Tjedan 7)\n# Vježbaj korištenje varijabli za izračun površine, opsega i volumena\n\nprint(\"📐 Kalkulator oblika - Korištenje varijabli!\")\n\ndef kalkulator_pravokutnika():\n    \"\"\"Izračunaj površinu i opseg pravokutnika koristeći varijable\"\"\"\n    print(\"\\n=== Kalkulator pravokutnika ===\")\n    \n    # Uzmi korisnički unos i spremi u varijable\n    duzina = float(input(\"Unesi dužinu: \"))\n    sirina = float(input(\"Unesi širinu: \"))\n    \n    ### TODO ### Koristi varijable za izračun površine i opsega\n    # SAVJET: Površina = dužina × širina\n    povrsina = ___  # UČENIK: Ispuni formulu koristeći dužinu i širinu\n    \n    # SAVJET: Opseg = 2 × dužina + 2 × širina\n    opseg = ___  # UČENIK: Ispuni formulu\n    \n    print(f\"Dužina: {duzina} jedinica, Širina: {sirina} jedinica\")\n    print(f\"Površina: {povrsina} kvadratnih jedinica\")\n    print(f\"Opseg: {opseg} jedinica\")\n\ndef kalkulator_kocke():\n    \"\"\"Izračunaj volumen kocke koristeći varijablu duljine stranice\"\"\"\n    print(\"\\n=== Kalkulator volumena kocke ===\")\n    \n    # Uzmi duljinu stranice kocke\n    stranica = float(input(\"Unesi duljinu stranice: \"))\n    \n    ### TODO ### Izračunaj volumen koristeći varijablu 'stranica'\n    # SAVJET: Volumen kocke = stranica × stranica × stranica\n    volumen = ___  # UČENIK: Ispuni - pomnoži stranicu sa sobom 3 puta\n    \n    print(f\"Duljina stranice: {stranica} jedinica\")\n    print(f\"Volumen: {volumen} kubnih jedinica\")\n\n# Pokreni oba kalkulatora\nkalkulator_pravokutnika()\nkalkulator_kocke()\n\nprint(\"\\n🎉 Odličan posao s korištenjem varijabli u geometrijskim izračunima!\")"
  }
 ],
 "metadata": {
  "kernelspec": {
   "display_name": "Python 3",
   "language": "python",
   "name": "python3"
  },
  "language_info": {
   "codemirror_mode": {
    "name": "ipython",
    "version": 3
   },
   "file_extension": ".py",
   "mimetype": "text/x-python",
   "name": "python",
   "nbconvert_exporter": "python",
   "pygments_lexer": "ipython3",
   "version": "3.8.5"
  }
 },
 "nbformat": 4,
 "nbformat_minor": 4
}